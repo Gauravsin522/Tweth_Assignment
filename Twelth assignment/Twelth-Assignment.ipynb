{
 "cells": [
  {
   "cell_type": "markdown",
   "metadata": {},
   "source": [
    "# Statistics Advance - 1\n",
    "### Assignment Questions\n"
   ]
  },
  {
   "cell_type": "code",
   "execution_count": 1,
   "metadata": {},
   "outputs": [
    {
     "data": {
      "text/plain": [
       "' \\nThe F-distribution is a continuous probability distribution that is used to compare the variances of two populations\\nIt is defined as the ratio of two independent chi-squared distributions divided by their respective degrees of freedom\\nThe F-distribution has the following properties:\\n- It is skewed to the right, with a long tail in the positive direction\\n- The mean of the F-distribution is not defined, as the distribution is skewed and has a\\n- The variance of the F-distribution is also not defined, as the distribution is skewed and has\\n- The F-distribution is used in hypothesis testing to compare the variances of two populations\\n'"
      ]
     },
     "execution_count": 1,
     "metadata": {},
     "output_type": "execute_result"
    }
   ],
   "source": [
    "# 1. Explain the properties of the F-distribution. \n",
    "\n",
    "# Answer :-    \n",
    "''' \n",
    "The F-distribution is a continuous probability distribution that is used to compare the variances of two populations\n",
    "It is defined as the ratio of two independent chi-squared distributions divided by their respective degrees of freedom\n",
    "The F-distribution has the following properties:\n",
    "- It is skewed to the right, with a long tail in the positive direction\n",
    "- The mean of the F-distribution is not defined, as the distribution is skewed and has a\n",
    "- The variance of the F-distribution is also not defined, as the distribution is skewed and has\n",
    "- The F-distribution is used in hypothesis testing to compare the variances of two populations\n",
    "'''"
   ]
  },
  {
   "cell_type": "code",
   "execution_count": 2,
   "metadata": {},
   "outputs": [],
   "source": [
    "# 2. In which types of statistical tests is the F-distribution used, and why is it appropriate for these tests?\n",
    "\n",
    "# Answer:- The F-distribution is used in analysis of variance (ANOVA) and regression analysis. It is\n",
    "# appropriate for these tests because it is used to compare the variances of two or more groups,\n",
    "# and it takes into account the degrees of freedom of the groups being compared."
   ]
  },
  {
   "cell_type": "code",
   "execution_count": 3,
   "metadata": {},
   "outputs": [
    {
     "data": {
      "text/plain": [
       "'\\n## Step 1: Identify the purpose of the F-test\\nThe F-test is used to compare the variances of two populations to determine if they are significantly different\\n## Step 2: List the key assumptions required for the F-test\\n1. The data must be normally distributed or follow a known distribution.\\n2. The samples must be independent of each other.\\n3. The samples must be randomly selected from the populations.\\n4. The population variances must be equal (homoscedasticity) or unequal (homoscedasticity).\\n## Step 3: Provide a brief explanation for each assumption\\n1. Normality: The F-test assumes that the data follows a normal distribution or a known distribution\\n2. Independence: The F-test assumes that the samples are independent of each other\\n3. Random sampling: The F-test assumes that the samples are randomly selected from the populations\\n4.Homogeneity of Variance: The F-test assumes that the variances of the populations are equal.\\n If the variances are not equal, it may lead to incorrect conclusions.\\n'"
      ]
     },
     "execution_count": 3,
     "metadata": {},
     "output_type": "execute_result"
    }
   ],
   "source": [
    "# 3. What are the key assumptions required for conducting an F-test to compare the variances of two populations?\n",
    "\"\"\"\n",
    "## Step 1: Identify the purpose of the F-test\n",
    "The F-test is used to compare the variances of two populations to determine if they are significantly different\n",
    "## Step 2: List the key assumptions required for the F-test\n",
    "1. The data must be normally distributed or follow a known distribution.\n",
    "2. The samples must be independent of each other.\n",
    "3. The samples must be randomly selected from the populations.\n",
    "4. The population variances must be equal (homoscedasticity) or unequal (homoscedasticity).\n",
    "## Step 3: Provide a brief explanation for each assumption\n",
    "1. Normality: The F-test assumes that the data follows a normal distribution or a known distribution\n",
    "2. Independence: The F-test assumes that the samples are independent of each other\n",
    "3. Random sampling: The F-test assumes that the samples are randomly selected from the populations\n",
    "4.Homogeneity of Variance: The F-test assumes that the variances of the populations are equal.\n",
    " If the variances are not equal, it may lead to incorrect conclusions.\n",
    "\"\"\"                                                                "
   ]
  },
  {
   "cell_type": "code",
   "execution_count": 4,
   "metadata": {},
   "outputs": [],
   "source": [
    "#  4. What is the purpose of ANOVA, and how does it differ from a t-test? \n",
    "# Answer :- ANOVA is used to compare the means of three or more groups to determine if there is a\n",
    "# significant difference between them. It is used when we have more than two groups. On the other\n",
    "# hand, a t-test is used to compare the means of two groups to determine if there is\n",
    "# a significant difference between them."
   ]
  },
  {
   "cell_type": "code",
   "execution_count": 5,
   "metadata": {},
   "outputs": [
    {
     "data": {
      "text/plain": [
       "'\\nWhen comparing more than two groups, a one-way ANOVA is generally preferred over multiple t-tests\\nbecause it is more powerful and has a lower Type I error rate. This is because multiple t-tests\\nare not independent, and the more tests you perform, the higher the chance of obtaining a\\nsignificant result by chance alone. One-way ANOVA, on the other hand, takes into account\\nthe variation within each group and between groups, providing a more accurate and robust\\ntest of the null hypothesis.\\n'"
      ]
     },
     "execution_count": 5,
     "metadata": {},
     "output_type": "execute_result"
    }
   ],
   "source": [
    "# 5. Explain when and why you would use a one-way ANOVA instead of multiple t-tests when comparing more than two groups.\n",
    "\n",
    "# Answer :- \n",
    "'''\n",
    "When comparing more than two groups, a one-way ANOVA is generally preferred over multiple t-tests\n",
    "because it is more powerful and has a lower Type I error rate. This is because multiple t-tests\n",
    "are not independent, and the more tests you perform, the higher the chance of obtaining a\n",
    "significant result by chance alone. One-way ANOVA, on the other hand, takes into account\n",
    "the variation within each group and between groups, providing a more accurate and robust\n",
    "test of the null hypothesis.\n",
    "'''"
   ]
  },
  {
   "cell_type": "code",
   "execution_count": 6,
   "metadata": {},
   "outputs": [
    {
     "data": {
      "text/plain": [
       "'\\nIn ANOVA, variance is partitioned into between-group variance and within-group variance. The between\\ngroup variance measures the variation between the means of the different groups, while the within-group\\nvariance measures the variation within each group. The F-statistic is calculated by dividing the between-group\\nvariance by the within-group variance. This partitioning of variance is used to determine whether the means\\nof the different groups are significantly different from each other.\\n'"
      ]
     },
     "execution_count": 6,
     "metadata": {},
     "output_type": "execute_result"
    }
   ],
   "source": [
    "#6. Explain how variance is partitioned in ANOVA into between-group variance and within-group variance. \n",
    "#How does this partitioning contribute to the calculation of the F-statistic?\n",
    "\n",
    "# Answer:- \n",
    "'''\n",
    "In ANOVA, variance is partitioned into between-group variance and within-group variance. The between\n",
    "group variance measures the variation between the means of the different groups, while the within-group\n",
    "variance measures the variation within each group. The F-statistic is calculated by dividing the between-group\n",
    "variance by the within-group variance. This partitioning of variance is used to determine whether the means\n",
    "of the different groups are significantly different from each other.\n",
    "'''"
   ]
  },
  {
   "cell_type": "code",
   "execution_count": 7,
   "metadata": {},
   "outputs": [
    {
     "data": {
      "text/plain": [
       "'\\nThe classical (frequentist) approach to ANOVA and the Bayesian approach differ in several key\\nways:\\n1.  **Uncertainty Handling**: Frequentist methods rely on the concept of probability as a   \\nlong-run frequency, whereas Bayesian methods treat probability as a degree of belief. Bayesian\\nmethods can incorporate prior knowledge and uncertainty into the analysis, whereas frequentist\\nmethods rely solely on the data.\\n2.  **Parameter Estimation**: Frequentist methods typically use maximum likelihood estimation (MLE)\\nto estimate parameters, whereas Bayesian methods use posterior distributions to estimate parameters.\\n3.  **Hypothesis Testing**: Frequentist methods use p-values to test hypotheses,\\nwhereas Bayesian methods use Bayes factors or posterior probabilities to test hypotheses.\\n4.  **Interpretation**: Frequentist methods focus on the probability of observing the data\\ngiven the null hypothesis, whereas Bayesian methods focus on the probability of the null hypothesis\\ngiven the data.\\n5.  **Model Selection**: Bayesian methods can be used for model selection using techniques such as\\nBayesian information criterion (BIC) or cross-validation, whereas frequentist methods rely on\\ninformation criteria such as AIC or BIC.\\n\\n'"
      ]
     },
     "execution_count": 7,
     "metadata": {},
     "output_type": "execute_result"
    }
   ],
   "source": [
    "#7. Compare the classical (frequentist) approach to ANOVA with the Bayesian approach. What are the key differences in terms of how they handle uncertainty, parameter estimation, and hypothesis testing?\n",
    "\n",
    "#answer:-\n",
    "'''\n",
    "The classical (frequentist) approach to ANOVA and the Bayesian approach differ in several key\n",
    "ways:\n",
    "1.  **Uncertainty Handling**: Frequentist methods rely on the concept of probability as a   \n",
    "long-run frequency, whereas Bayesian methods treat probability as a degree of belief. Bayesian\n",
    "methods can incorporate prior knowledge and uncertainty into the analysis, whereas frequentist\n",
    "methods rely solely on the data.\n",
    "2.  **Parameter Estimation**: Frequentist methods typically use maximum likelihood estimation (MLE)\n",
    "to estimate parameters, whereas Bayesian methods use posterior distributions to estimate parameters.\n",
    "3.  **Hypothesis Testing**: Frequentist methods use p-values to test hypotheses,\n",
    "whereas Bayesian methods use Bayes factors or posterior probabilities to test hypotheses.\n",
    "4.  **Interpretation**: Frequentist methods focus on the probability of observing the data\n",
    "given the null hypothesis, whereas Bayesian methods focus on the probability of the null hypothesis\n",
    "given the data.\n",
    "5.  **Model Selection**: Bayesian methods can be used for model selection using techniques such as\n",
    "Bayesian information criterion (BIC) or cross-validation, whereas frequentist methods rely on\n",
    "information criteria such as AIC or BIC.\n",
    "\n",
    "'''"
   ]
  },
  {
   "cell_type": "code",
   "execution_count": 18,
   "metadata": {},
   "outputs": [
    {
     "name": "stdout",
     "output_type": "stream",
     "text": [
      "Variance of Profession A: 32.8\n",
      "Variance of Profession B: 15.7\n",
      "F-statistic: 2.089171974522293\n",
      "P-value: 0.24652429950266952\n",
      "Fail to reject the null hypothesis. The variances of the two professions' incomes arenot significantly different\n"
     ]
    }
   ],
   "source": [
    "#8. Question: You have two sets of data representing the incomes of two different professions\n",
    "'''\n",
    " Profession A: [48, 52, 55, 60, 62]\n",
    " Profession B: [45, 50, 55, 52, 47] \n",
    " Perform an F-test to determine if the variances of the two professions' \n",
    "incomes are equal. What are your conclusions based on the F-test?\n",
    " Task: Use Python to calculate the F-statistic and p-value for the given data.\n",
    " Objective: Gain experience in performing F-tests and interpreting the results in terms of variance comparison\n",
    "'''\n",
    "\n",
    "# Answer :- \n",
    "\n",
    "import numpy as np\n",
    "import scipy.stats as stats\n",
    "\n",
    "#given data\n",
    "Profession_A = [48, 52, 55, 60, 62]\n",
    "Profession_B = [45, 50, 55, 52, 47] \n",
    "\n",
    "# Calculate the variance of each profession's income\n",
    "variale_a= np.var(Profession_A,ddof=1)\n",
    "variale_b=np.var(Profession_B,ddof=1)\n",
    "\n",
    "#calculate the F-statistic \n",
    "f_statistic = variale_a / variale_b\n",
    "\n",
    "#calculate degree of freedom\n",
    "df_a=len(Profession_A)-1\n",
    "df_b=len(Profession_B)-1\n",
    "\n",
    "#calculate p value\n",
    "p_Value=1-stats.f.cdf(f_statistic,df_a,df_b)\n",
    "\n",
    "#outputs\n",
    "print(f\"Variance of Profession A: {variale_a}\")\n",
    "print(f\"Variance of Profession B: {variale_b}\")\n",
    "print(f\"F-statistic: {f_statistic}\")\n",
    "print(f\"P-value: {p_Value}\")\n",
    "\n",
    "#Interpret\n",
    "significace_level=0.05\n",
    "if p_Value<significace_level:\n",
    "    print(\"Reject the null hypothesis. The variances of the two professions' incomes are significance different\")\n",
    "else:\n",
    "          \n",
    "    print(\"Fail to reject the null hypothesis. The variances of the two professions' incomes arenot significantly different\")\n",
    "         \n",
    "         \n"
   ]
  },
  {
   "cell_type": "code",
   "execution_count": 24,
   "metadata": {},
   "outputs": [
    {
     "name": "stdout",
     "output_type": "stream",
     "text": [
      "F-Statistic: 67.87330316742101\n",
      "p_value:2.8706641879370266e-07\n",
      "Reject the null hypothesis\n"
     ]
    }
   ],
   "source": [
    "# 9. Question: Conduct a one-way ANOVA to test whether there are any statistically significant differences in \n",
    "#average heights between three different regions with the following data\n",
    "\"\"\"\n",
    " Region A: [160, 162, 165, 158, 164]\n",
    " Region B: [172, 175, 170, 168, 174]\n",
    " Region C: [180, 182, 179, 185, 183]\n",
    " Task: Write Python code to perform the one-way ANOVA and interpret the results\n",
    " Objective: Learn how to perform one-way ANOVA using Python and interpret F-statistic and p-value\n",
    " \"\"\"\n",
    " #given data\n",
    "Region_a = [160, 162, 165, 158, 164]\n",
    "Region_b = [172, 175, 170, 168, 174] \n",
    "Region_c = [180, 182, 179, 185, 183]\n",
    "\n",
    "#proform one-way ANOVA\n",
    "f_statistic, p_value = stats.f_oneway(Region_a, Region_b, Region_c)\n",
    "\n",
    "#output\n",
    "print(f\"F-Statistic: {f_statistic}\")\n",
    "print(f\"p_value:{p_value}\")\n",
    "\n",
    "#interpret \n",
    "significace_level=0.05\n",
    "if p_value < significace_level:\n",
    "    print(\"Reject the null hypothesis\")\n",
    "else:\n",
    "    print(\"Fail to reject the null hypothesis\")\n"
   ]
  }
 ],
 "metadata": {
  "kernelspec": {
   "display_name": "Python 3",
   "language": "python",
   "name": "python3"
  },
  "language_info": {
   "codemirror_mode": {
    "name": "ipython",
    "version": 3
   },
   "file_extension": ".py",
   "mimetype": "text/x-python",
   "name": "python",
   "nbconvert_exporter": "python",
   "pygments_lexer": "ipython3",
   "version": "3.13.0"
  }
 },
 "nbformat": 4,
 "nbformat_minor": 2
}
